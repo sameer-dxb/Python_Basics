{
 "cells": [
  {
   "cell_type": "code",
   "execution_count": 25,
   "id": "056c8681-e3d6-4723-962d-0cb0b9a48634",
   "metadata": {},
   "outputs": [
    {
     "name": "stdout",
     "output_type": "stream",
     "text": [
      "result:\n",
      "sameer\n",
      "35\n",
      "Dubai\n"
     ]
    }
   ],
   "source": [
    "#Python Basics - Variables\n",
    "\n",
    "#This notebook demonstrates 3 basic examples of creating and using variables in Python.\n",
    "\n",
    "#Example 1: Storing Personal Information\n",
    "\n",
    "name = \"sameer\"\n",
    "age = 35\n",
    "City = \"Dubai\"\n",
    "\n",
    "print (\"result:\"), \n",
    "print (name)\n",
    "print (age)\n",
    "print (City)\n",
    "    \n"
   ]
  },
  {
   "cell_type": "code",
   "execution_count": 33,
   "id": "db98311f-43a2-4d38-84dd-cd2716d49e90",
   "metadata": {},
   "outputs": [
    {
     "name": "stdout",
     "output_type": "stream",
     "text": [
      "see result as __ estimamed tax: 750.0\n"
     ]
    }
   ],
   "source": [
    "# Example 2: Salary and Tax \n",
    "\n",
    "# we will find tax by simple calculation and by assigning variables\n",
    "\n",
    "salary = 15000\n",
    "tax_rate = 0.05\n",
    "tax = salary * tax_rate\n",
    "\n",
    "print (\"see result as __\",\"estimamed tax:\" ,tax)"
   ]
  },
  {
   "cell_type": "code",
   "execution_count": 43,
   "id": "82314838-7dc5-4253-8b7a-502e40715f58",
   "metadata": {},
   "outputs": [
    {
     "name": "stdout",
     "output_type": "stream",
     "text": [
      "Result below:\n",
      "Is Registered: True\n",
      "Has VAT Number: False\n"
     ]
    }
   ],
   "source": [
    "# Example 3: Boolean variable\n",
    "\n",
    "#💡 In Real Life:\n",
    "# You can use this to check if a client or business is active, registered, or has VAT.\n",
    "\n",
    "\n",
    "is_registered = True\n",
    "has_vat_number = False\n",
    "\n",
    "print (\"Result below:\")\n",
    "print(\"Is Registered:\", is_registered)\n",
    "print(\"Has VAT Number:\", has_vat_number)"
   ]
  },
  {
   "cell_type": "code",
   "execution_count": null,
   "id": "ba5e8544-cdd0-4c4a-ab98-8b7828c3d3eb",
   "metadata": {},
   "outputs": [],
   "source": []
  }
 ],
 "metadata": {
  "kernelspec": {
   "display_name": "Python [conda env:base] *",
   "language": "python",
   "name": "conda-base-py"
  },
  "language_info": {
   "codemirror_mode": {
    "name": "ipython",
    "version": 3
   },
   "file_extension": ".py",
   "mimetype": "text/x-python",
   "name": "python",
   "nbconvert_exporter": "python",
   "pygments_lexer": "ipython3",
   "version": "3.12.7"
  }
 },
 "nbformat": 4,
 "nbformat_minor": 5
}
