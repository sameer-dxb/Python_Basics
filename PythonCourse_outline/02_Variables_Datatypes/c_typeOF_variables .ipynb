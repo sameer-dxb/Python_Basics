{
 "cells": [
  {
   "cell_type": "markdown",
   "id": "ba7e877e-8ab4-4509-b936-135b4528cec6",
   "metadata": {},
   "source": [
    "## Variables and Data types (int, float, str)"
   ]
  },
  {
   "cell_type": "markdown",
   "id": "778fcede-6e3a-48b8-bc02-ba2edccfdfae",
   "metadata": {},
   "source": [
    "# ✅ 1. Check Type of a Variable"
   ]
  },
  {
   "cell_type": "code",
   "execution_count": 19,
   "id": "74f13415-9f39-435b-afb9-9569b0cd2075",
   "metadata": {},
   "outputs": [
    {
     "name": "stdout",
     "output_type": "stream",
     "text": [
      "📌 Output:\n",
      "<class 'int'>\n",
      "<class 'float'>\n",
      "<class 'str'>\n",
      "<class 'int'>\n"
     ]
    }
   ],
   "source": [
    "# Use type() function:\n",
    "\n",
    "x = 10\n",
    "y = 3.14\n",
    "z = \"100\"\n",
    "\n",
    "print (\"📌 Output:\")\n",
    "print(type(x))   # <class 'int'>\n",
    "print(type(y))   # <class 'float'>\n",
    "print(type(z))   # <class 'str'>\n"
   ]
  },
  {
   "cell_type": "markdown",
   "id": "8fcfcb24-53ae-4e25-b287-cb438c3b3380",
   "metadata": {},
   "source": [
    "# 🔄 2. Convert int to float"
   ]
  },
  {
   "cell_type": "code",
   "execution_count": 32,
   "id": "6d955cc8-667b-4e29-8d8d-9e69c2c5a465",
   "metadata": {},
   "outputs": [
    {
     "name": "stdout",
     "output_type": "stream",
     "text": [
      "📌 Output:\n",
      "10.0 <class 'float'>\n"
     ]
    }
   ],
   "source": [
    "a = 10  #int\n",
    "b = float(a) #convert to float\n",
    "\n",
    "print (\"📌 Output:\")\n",
    "print (b, type (b)) ## 10.0 <class 'float'>"
   ]
  },
  {
   "cell_type": "markdown",
   "id": "d9dd7915-2ee9-4984-b8c2-7746f5470694",
   "metadata": {},
   "source": [
    "# 🔄 3. Convert float to int"
   ]
  },
  {
   "cell_type": "code",
   "execution_count": 41,
   "id": "8e8c10d3-196c-4065-a356-bb1ba379c846",
   "metadata": {},
   "outputs": [
    {
     "name": "stdout",
     "output_type": "stream",
     "text": [
      "📌 Output:\n",
      "10 <class 'int'>\n"
     ]
    }
   ],
   "source": [
    "x = 10.20 #float\n",
    "y = int (x) #convert to int\n",
    "\n",
    "print (\"📌 Output:\")\n",
    "print (y, type(y)) ## 10 <class 'int'>"
   ]
  },
  {
   "cell_type": "markdown",
   "id": "1b530042-c629-4c93-8399-cdc3d13351c5",
   "metadata": {},
   "source": [
    "# 🔄 4. Convert int to str"
   ]
  },
  {
   "cell_type": "code",
   "execution_count": 55,
   "id": "2bfbe114-c2c0-41d6-85f8-a70e92525519",
   "metadata": {},
   "outputs": [
    {
     "name": "stdout",
     "output_type": "stream",
     "text": [
      "📌 Output:\n",
      "100 <class 'str'>\n"
     ]
    }
   ],
   "source": [
    "x = 100 #int\n",
    "text = str(x) #assigned and converted x to variable\n",
    "\n",
    "print (\"📌 Output:\")\n",
    "print (text, type (text) ) #converted and verified its type"
   ]
  },
  {
   "cell_type": "markdown",
   "id": "680a1210-0c95-4215-9249-b3cdef82aebf",
   "metadata": {},
   "source": [
    "# 🔄 4. Convert float to str"
   ]
  },
  {
   "cell_type": "code",
   "execution_count": 66,
   "id": "77c27ae4-c302-46f3-9fd8-5ae03db9775b",
   "metadata": {},
   "outputs": [
    {
     "name": "stdout",
     "output_type": "stream",
     "text": [
      "📌 Output:\n",
      "100.1 <class 'str'>\n"
     ]
    }
   ],
   "source": [
    "x = 100.10 #float\n",
    "text = str(x) #assigned and converted x to variable\n",
    "\n",
    "print (\"📌 Output:\")\n",
    "print (text, type (text)) #converted and verified its type"
   ]
  },
  {
   "cell_type": "markdown",
   "id": "38ba4fe2-f47c-4fb2-b3bd-c7dba817e844",
   "metadata": {},
   "source": [
    "# 🔄 5. Convert str to int"
   ]
  },
  {
   "cell_type": "code",
   "execution_count": 91,
   "id": "cf8867d5-8793-488b-a740-7a8a64043294",
   "metadata": {},
   "outputs": [
    {
     "name": "stdout",
     "output_type": "stream",
     "text": [
      "<class 'str'>\n",
      "📌 Output:\n",
      "100 <class 'int'>\n"
     ]
    }
   ],
   "source": [
    "x = \"100\" #str\n",
    "print (type (x)) #type of x\n",
    "\n",
    "y = int (x) #converted str into int\n",
    "\n",
    "print (\"📌 Output:\")\n",
    "print (y, type (y)) #converted and verified its type"
   ]
  },
  {
   "cell_type": "markdown",
   "id": "e4b22b22-02bf-481d-ae65-e63dd23e1ec5",
   "metadata": {},
   "source": [
    "# 🔄 6. Convert str to float¶"
   ]
  },
  {
   "cell_type": "code",
   "execution_count": 93,
   "id": "debc6639-7bcb-422a-82e0-50582910b331",
   "metadata": {},
   "outputs": [
    {
     "name": "stdout",
     "output_type": "stream",
     "text": [
      "<class 'str'>\n",
      "📌 Output:\n",
      "200.15 <class 'float'>\n"
     ]
    }
   ],
   "source": [
    "x = \"200.15\"\n",
    "print (type(x)) #type of x\n",
    "\n",
    "y = float(x ) #converted str into float\n",
    "\n",
    "print (\"📌 Output:\")\n",
    "print (y, type (y)) #converted and verified its type"
   ]
  },
  {
   "cell_type": "code",
   "execution_count": null,
   "id": "5fd986ad-4823-45d4-a3a4-ec3983e3c619",
   "metadata": {},
   "outputs": [],
   "source": []
  }
 ],
 "metadata": {
  "kernelspec": {
   "display_name": "Python [conda env:base] *",
   "language": "python",
   "name": "conda-base-py"
  },
  "language_info": {
   "codemirror_mode": {
    "name": "ipython",
    "version": 3
   },
   "file_extension": ".py",
   "mimetype": "text/x-python",
   "name": "python",
   "nbconvert_exporter": "python",
   "pygments_lexer": "ipython3",
   "version": "3.12.7"
  }
 },
 "nbformat": 4,
 "nbformat_minor": 5
}
