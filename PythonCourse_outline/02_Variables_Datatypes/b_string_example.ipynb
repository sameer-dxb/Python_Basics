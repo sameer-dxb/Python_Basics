{
 "cells": [
  {
   "cell_type": "code",
   "execution_count": 7,
   "id": "f3969505-4b70-435b-8182-0868bc3f13eb",
   "metadata": {},
   "outputs": [
    {
     "name": "stdout",
     "output_type": "stream",
     "text": [
      "📌 Output:\n",
      "My name is Sameer\n"
     ]
    }
   ],
   "source": [
    "## ✅ Example 1: Storing and Printing a Name\n",
    "\n",
    "# Example 1: Simple string \n",
    "\n",
    "#add anything inside the double quote \" \" and it will display it. this is called sting\n",
    "\n",
    "name = \"Sameer\" #name is varliabe and \"Sameer\" is sting\n",
    "\n",
    "print (\"📌 Output:\")\n",
    "print(\"My name is\", name)\n",
    "\n"
   ]
  },
  {
   "cell_type": "code",
   "execution_count": 11,
   "id": "4acc66df-4dd0-4627-a867-e41788de84e1",
   "metadata": {},
   "outputs": [
    {
     "name": "stdout",
     "output_type": "stream",
     "text": [
      "📌 Output:\n",
      "full_name: Sameer Ahmad\n"
     ]
    }
   ],
   "source": [
    "## ✅ Example 2: String Concatenation\n",
    "\n",
    "# Example 2: Combine two strings\n",
    "\n",
    "first_name = \"Sameer\"\n",
    "last_name = \"Ahmad\"\n",
    "full_name = first_name + \" \" + last_name\n",
    "\n",
    "print (\"📌 Output:\")\n",
    "print (\"full_name:\", full_name)"
   ]
  },
  {
   "cell_type": "code",
   "execution_count": 47,
   "id": "93180685-890d-47c1-883a-6b1f33216076",
   "metadata": {},
   "outputs": [
    {
     "name": "stdout",
     "output_type": "stream",
     "text": [
      "📌 Output:\n",
      "Capitalized : Dubai\n",
      "Uppercase: DUBAI\n",
      "Length: 5\n"
     ]
    }
   ],
   "source": [
    "\n",
    "## ✅ Example 3: Using String Methods\n",
    "\n",
    "# Example 3: Working with string methods\n",
    "print (\"📌 Output:\")\n",
    "\n",
    "city = \"dubai\"\n",
    "print(\"Capitalized :\", city.capitalize())\n",
    "print (\"Uppercase:\", city.upper())\n",
    "print (\"Length:\", len(city))"
   ]
  },
  {
   "cell_type": "code",
   "execution_count": null,
   "id": "4214828e-130e-4199-aaa0-5ab52606249e",
   "metadata": {},
   "outputs": [],
   "source": []
  }
 ],
 "metadata": {
  "kernelspec": {
   "display_name": "Python [conda env:base] *",
   "language": "python",
   "name": "conda-base-py"
  },
  "language_info": {
   "codemirror_mode": {
    "name": "ipython",
    "version": 3
   },
   "file_extension": ".py",
   "mimetype": "text/x-python",
   "name": "python",
   "nbconvert_exporter": "python",
   "pygments_lexer": "ipython3",
   "version": "3.12.7"
  }
 },
 "nbformat": 4,
 "nbformat_minor": 5
}
