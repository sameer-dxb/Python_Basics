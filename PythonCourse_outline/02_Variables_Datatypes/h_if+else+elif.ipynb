{
 "cells": [
  {
   "cell_type": "markdown",
   "id": "7cc63966-b17f-408c-929d-99e5c399249c",
   "metadata": {},
   "source": [
    "# ✅ if Statement \n",
    "\n",
    "## 1. Examples (if Condition)\n",
    "## 2. Examples (if + else Condition)\n",
    "## 3. Examples (if + else + elif Condition)\n",
    "\n"
   ]
  },
  {
   "cell_type": "markdown",
   "id": "e0e6eeec-3c21-470f-bf9c-e041b27def3f",
   "metadata": {},
   "source": [
    "## 1. Examples (if Condition)"
   ]
  },
  {
   "cell_type": "code",
   "execution_count": 154,
   "id": "3458890e-c945-4231-acff-81a8be4a65d5",
   "metadata": {},
   "outputs": [
    {
     "name": "stdout",
     "output_type": "stream",
     "text": [
      "Example 1. Check if Age is Eligible to Vote\n"
     ]
    },
    {
     "name": "stdin",
     "output_type": "stream",
     "text": [
      "Enter your age:  20\n"
     ]
    },
    {
     "name": "stdout",
     "output_type": "stream",
     "text": [
      "you are eligible for vote: \n"
     ]
    }
   ],
   "source": [
    "## 1. Examples (if Condition)\n",
    "\n",
    "# 🔹 1. Check if Age is Eligible to Vote\n",
    "\n",
    "age = int(input(\"Enter your age: \"))\n",
    "if age > 18:\n",
    "    print (\"you are eligible for vote: \")\n",
    "    \n",
    "\n"
   ]
  },
  {
   "cell_type": "code",
   "execution_count": 164,
   "id": "ef52ab84-39f9-43dc-8634-a8d07482f8ff",
   "metadata": {},
   "outputs": [
    {
     "name": "stdin",
     "output_type": "stream",
     "text": [
      "enter you balance:  231.22\n"
     ]
    },
    {
     "name": "stdout",
     "output_type": "stream",
     "text": [
      "The account is active & balance is:  231.22\n"
     ]
    }
   ],
   "source": [
    "## 2. Check if Account Balance is Positive\n",
    "\n",
    "balance = float(input (\"enter you balance: \"))\n",
    "if balance > 0:\n",
    "    print (\"The account is active & balance is: \", balance)\n",
    "    \n",
    "    "
   ]
  },
  {
   "cell_type": "code",
   "execution_count": 168,
   "id": "eb001c77-2535-4ee3-aec6-f0e974006839",
   "metadata": {},
   "outputs": [
    {
     "name": "stdin",
     "output_type": "stream",
     "text": [
      "enter tem: 1\n"
     ]
    },
    {
     "name": "stdout",
     "output_type": "stream",
     "text": [
      "the tem is freezing\n"
     ]
    }
   ],
   "source": [
    "## 3. Check if Temperature is Above Freezing\n",
    "\n",
    "tempreture = float(input(\"enter tem:\"))\n",
    "if tempreture > 0 :\n",
    "    print (\"the tem is freezing\")"
   ]
  },
  {
   "cell_type": "markdown",
   "id": "bc255a79-dc96-4287-817a-b91c28c25ea5",
   "metadata": {},
   "source": [
    "## 2. Examples (if + else Condition)"
   ]
  },
  {
   "cell_type": "code",
   "execution_count": 192,
   "id": "526f333c-2e89-4b1e-8299-f4db9f1b392c",
   "metadata": {},
   "outputs": [
    {
     "name": "stdin",
     "output_type": "stream",
     "text": [
      "are you logged in: yes\n"
     ]
    },
    {
     "name": "stdout",
     "output_type": "stream",
     "text": [
      "welcome, you are in\n"
     ]
    }
   ],
   "source": [
    "# 🔹 1. Check Login Status\n",
    "\n",
    "is_logged_in = input (\"are you logged in:\")\n",
    "if is_logged_in == \"yes\":\n",
    "    print (\"welcome, you are in\")\n",
    "\n",
    "else: \n",
    "    print (\"need login\")\n",
    "\n"
   ]
  },
  {
   "cell_type": "code",
   "execution_count": 206,
   "id": "3b3705a6-2c77-44f2-b3e8-c995b42d09b2",
   "metadata": {},
   "outputs": [
    {
     "name": "stdin",
     "output_type": "stream",
     "text": [
      "Enter a number: 222\n"
     ]
    },
    {
     "name": "stdout",
     "output_type": "stream",
     "text": [
      "This number is even\n"
     ]
    }
   ],
   "source": [
    "# 🔹 2. Check Even or Odd Number\n",
    "\n",
    "number = int(input(\"Enter a number:\"))\n",
    "\n",
    "if number % 2 == 0:\n",
    "    print (\"This number is even\")\n",
    "\n",
    "else: \n",
    "    print (\"This number is odd:\")\n"
   ]
  },
  {
   "cell_type": "code",
   "execution_count": 214,
   "id": "98e6794b-07ad-41fc-ab4a-64ebf440abb6",
   "metadata": {},
   "outputs": [
    {
     "name": "stdin",
     "output_type": "stream",
     "text": [
      "enter bill 322\n"
     ]
    },
    {
     "name": "stdout",
     "output_type": "stream",
     "text": [
      "No discount\n"
     ]
    }
   ],
   "source": [
    "# 🔹 3. Check if Discount is Applied\n",
    "\n",
    "bill = float(input(\"enter bill\"))\n",
    "\n",
    "if bill > 500:\n",
    "    print (\"Discount eligible\")\n",
    "\n",
    "else: \n",
    "    print (\"No discount\")"
   ]
  },
  {
   "cell_type": "markdown",
   "id": "2aa40e85-b82e-4168-bfe2-eba1a0dee637",
   "metadata": {},
   "source": [
    "## 3. Examples (if + else + elif Condition) (Multi-Way Decision)\n"
   ]
  },
  {
   "cell_type": "code",
   "execution_count": 218,
   "id": "2cf56d5f-6992-4068-96fb-f270b74d54d4",
   "metadata": {},
   "outputs": [
    {
     "name": "stdin",
     "output_type": "stream",
     "text": [
      "enter mark: 55\n"
     ]
    },
    {
     "name": "stdout",
     "output_type": "stream",
     "text": [
      "Grade C\n"
     ]
    }
   ],
   "source": [
    "# 🔹 1. Assign Grade Based on Marks\n",
    "\n",
    "marks = int(input(\"enter mark:\"))\n",
    "\n",
    "if marks >= 80:\n",
    "    print (\"Grade A\")\n",
    "elif marks >= 60:\n",
    "    print (\"Grade B\")\n",
    "elif marks >= 40:\n",
    "    print (\"Grade C\")\n",
    "else:\n",
    "    print (\"Fail\")\n",
    "    \n",
    "\n"
   ]
  },
  {
   "cell_type": "code",
   "execution_count": 232,
   "id": "ab0b8c3b-2032-4d4e-85cf-c2d412c94154",
   "metadata": {},
   "outputs": [
    {
     "name": "stdin",
     "output_type": "stream",
     "text": [
      "enter order value: 555\n"
     ]
    },
    {
     "name": "stdout",
     "output_type": "stream",
     "text": [
      "free Delivery\n"
     ]
    }
   ],
   "source": [
    "# 🔹 2. Delivery Fee Based on Order Value\n",
    "\n",
    "order_value = float (input(\"enter order value:\"))\n",
    "\n",
    "if order_value >= 500:\n",
    "    print (\"free Delivery\")\n",
    "\n",
    "elif order_value >= 200:\n",
    "    print (\"delivery fee AED 5.00\")\n",
    "\n",
    "else:\n",
    "    print (\"No Discount\")\n",
    "    \n",
    "\n"
   ]
  },
  {
   "cell_type": "code",
   "execution_count": 236,
   "id": "ac41aafe-a998-4f87-b12e-9ad9638abec2",
   "metadata": {},
   "outputs": [
    {
     "name": "stdin",
     "output_type": "stream",
     "text": [
      "enter amount 1000\n"
     ]
    },
    {
     "name": "stdout",
     "output_type": "stream",
     "text": [
      "Premium plan\n"
     ]
    }
   ],
   "source": [
    "# 🔹 3. Gym Membership Plan Based on Budget\n",
    "\n",
    "membership_plan = int (input(\"enter amount\"))\n",
    "\n",
    "if membership_plan >= 800:\n",
    "    print (\"Premium plan\")\n",
    "\n",
    "elif membership_plan >= 500:\n",
    "    print (\"Silver plan\")\n",
    "\n",
    "else:\n",
    "    print (\"Basic plan\")\n",
    "    "
   ]
  },
  {
   "cell_type": "markdown",
   "id": "f4b13d7c-dbe4-4b39-b7fc-7f368dc385c2",
   "metadata": {},
   "source": [
    "# 🧠 Key Takeaways:\n",
    "\n",
    "Type | Usage\n",
    "if | Simple check\n",
    "if + else | Two possible paths\n",
    "if + elif + else | Multiple conditions and final fallback"
   ]
  }
 ],
 "metadata": {
  "kernelspec": {
   "display_name": "Python [conda env:base] *",
   "language": "python",
   "name": "conda-base-py"
  },
  "language_info": {
   "codemirror_mode": {
    "name": "ipython",
    "version": 3
   },
   "file_extension": ".py",
   "mimetype": "text/x-python",
   "name": "python",
   "nbconvert_exporter": "python",
   "pygments_lexer": "ipython3",
   "version": "3.12.7"
  }
 },
 "nbformat": 4,
 "nbformat_minor": 5
}
