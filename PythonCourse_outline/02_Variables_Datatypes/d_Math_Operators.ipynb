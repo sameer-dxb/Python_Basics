{
 "cells": [
  {
   "cell_type": "markdown",
   "id": "7cc63966-b17f-408c-929d-99e5c399249c",
   "metadata": {},
   "source": [
    "# 🧮 Python Math Operators"
   ]
  },
  {
   "cell_type": "markdown",
   "id": "08596c59-6b92-447b-9502-f1ef6d2f0be4",
   "metadata": {},
   "source": [
    "### Here are the 7 most commonly used math operators with examples you can use directly in projects:\n"
   ]
  },
  {
   "cell_type": "markdown",
   "id": "b50844c5-1e1d-47a7-a54a-7ff56542b55d",
   "metadata": {},
   "source": [
    "## ✅ 1. Addition (+)"
   ]
  },
  {
   "cell_type": "code",
   "execution_count": 115,
   "id": "756f749b-75c3-4fc8-8f7f-1e649f98d5bf",
   "metadata": {},
   "outputs": [
    {
     "name": "stdout",
     "output_type": "stream",
     "text": [
      "📌 Output:\n",
      "Addition: 15\n"
     ]
    }
   ],
   "source": [
    "x= 5    #assigned variable\n",
    "b = 10   #assigned variable\n",
    "\n",
    "print (\"📌 Output:\")\n",
    "print (\"Addition:\",(x+b))  "
   ]
  },
  {
   "cell_type": "markdown",
   "id": "d9b9f848-a4f3-4042-87aa-d0074cfb1209",
   "metadata": {},
   "source": [
    "## ✅ 2. Subtraction (-)"
   ]
  },
  {
   "cell_type": "code",
   "execution_count": 122,
   "id": "76677699-9cff-4cd1-aee6-55da19d1c36c",
   "metadata": {},
   "outputs": [
    {
     "name": "stdout",
     "output_type": "stream",
     "text": [
      "📌 Output:\n",
      "Subtraction: 5\n"
     ]
    }
   ],
   "source": [
    "x= 15    #assigned variable\n",
    "b = 10   #assigned variable\n",
    "\n",
    "print (\"📌 Output:\")\n",
    "print (\"Subtraction:\",(x-b))  "
   ]
  },
  {
   "cell_type": "markdown",
   "id": "b3cd37a4-9e9d-48d5-adb1-e5db8902c9e2",
   "metadata": {},
   "source": [
    "## ✅ 3. Multiplication (*)"
   ]
  },
  {
   "cell_type": "code",
   "execution_count": 141,
   "id": "ee5c9bee-58dc-4b97-8016-afe074a0ac59",
   "metadata": {},
   "outputs": [
    {
     "name": "stdout",
     "output_type": "stream",
     "text": [
      "📌 Output:\n",
      "Sales_Amount: 15\n"
     ]
    }
   ],
   "source": [
    "Price = 5    #assigned variable\n",
    "Quantity = 3   #assigned variable\n",
    "\n",
    "print (\"📌 Output:\")\n",
    "print (\"Sales_Amount:\",(Price * Quantity))"
   ]
  },
  {
   "cell_type": "markdown",
   "id": "037480ea-6c8c-4b48-b545-c954b00b37e7",
   "metadata": {},
   "source": [
    "## ✅ 4. Division (/) – Gives float result"
   ]
  },
  {
   "cell_type": "code",
   "execution_count": 150,
   "id": "baf99660-a59a-42c0-baa3-36deb9fec88e",
   "metadata": {},
   "outputs": [
    {
     "name": "stdout",
     "output_type": "stream",
     "text": [
      "📌 Output:\n",
      "Average_price: 5.666666666666667\n"
     ]
    }
   ],
   "source": [
    "total = 17  #assigned variable\n",
    "items = 3   #assigned variable\n",
    "\n",
    "print (\"📌 Output:\")\n",
    "print (\"Average_price:\", (total/items))  #output in float"
   ]
  },
  {
   "cell_type": "markdown",
   "id": "4f30af7f-44b1-4c2c-8b11-bb45387481a6",
   "metadata": {},
   "source": [
    "## ✅ 4a. Division (/) – round the output"
   ]
  },
  {
   "cell_type": "code",
   "execution_count": 163,
   "id": "92e9abc1-44ba-4b3f-a039-5bfdc777b59a",
   "metadata": {},
   "outputs": [
    {
     "name": "stdout",
     "output_type": "stream",
     "text": [
      "📌 Output:\n",
      "Average_price: 6\n"
     ]
    }
   ],
   "source": [
    "total = 17  #assigned variable\n",
    "items = 3   #assigned variable\n",
    "\n",
    "print (\"📌 Output:\")\n",
    "print (\"Average_price:\", round(total/items)) #output in round"
   ]
  },
  {
   "cell_type": "markdown",
   "id": "b0066174-17aa-4e5c-8187-24656080c15b",
   "metadata": {},
   "source": [
    "## ✅ 5. Integer Division (//) – No decimals"
   ]
  },
  {
   "cell_type": "code",
   "execution_count": 172,
   "id": "d01e3c19-cf73-4174-948a-623bd7436651",
   "metadata": {},
   "outputs": [
    {
     "name": "stdout",
     "output_type": "stream",
     "text": [
      "📌 Output:\n",
      "Average_price: 5\n"
     ]
    }
   ],
   "source": [
    "# if you want only the integer number e.g first number after the division then use // (17/3=5.666666666666667 but // will give only 5)\n",
    "\n",
    "total = 17  #assigned variable\n",
    "items = 3   #assigned variable\n",
    "\n",
    "print (\"📌 Output:\")\n",
    "print (\"Average_price:\", round(total//items)) #output in round"
   ]
  },
  {
   "cell_type": "markdown",
   "id": "1b178b56-0727-4f2d-9121-6981b8044303",
   "metadata": {},
   "source": [
    "## ✅ 6. Modulus (%) – Remainder"
   ]
  },
  {
   "cell_type": "code",
   "execution_count": 221,
   "id": "2c0f24ca-c160-49f6-b8ba-b980e6ca91be",
   "metadata": {},
   "outputs": [
    {
     "name": "stdout",
     "output_type": "stream",
     "text": [
      "Remiander: 1\n",
      "Remainder is: odd\n"
     ]
    }
   ],
   "source": [
    "# Remainder means when you divide any number what is left by the dividing is remainder\n",
    "# e.g 17 / 3 \n",
    "# e.g 3*5 = 15 and 17-15= 2 is remiander\n",
    "\n",
    "total = 19  #assigned variable\n",
    "items = 3   #assigned variable\n",
    "price = total%items\n",
    "\n",
    "print (\"Remiander:\",price)\n",
    "\n",
    "#👉 Useful to check:\n",
    "\n",
    "#Even/odd numbers (if x % 2 == 0)\n",
    "#Divisibility checks\n",
    "\n",
    "if (price % 2 == 0):\n",
    "    print (\"Remainder is:\",\"even\")\n",
    "\n",
    "else:\n",
    "    print (\"Remainder is:\",\"odd\")"
   ]
  },
  {
   "cell_type": "markdown",
   "id": "04066918-ac9f-4f8b-b395-9bf970f1fe26",
   "metadata": {},
   "source": [
    "## ✅ 7. Exponentiation (**) – Power"
   ]
  },
  {
   "cell_type": "code",
   "execution_count": 244,
   "id": "9c6e0ab2-c071-44ed-819d-c71237802c0f",
   "metadata": {},
   "outputs": [
    {
     "name": "stdout",
     "output_type": "stream",
     "text": [
      "256\n",
      "breakdown **:\n",
      "4*4= 16\n",
      "16*4= 64\n",
      "64*4= 256\n"
     ]
    }
   ],
   "source": [
    "a = 4\n",
    "\n",
    "b = 4**4\n",
    "\n",
    "print (b) \n",
    "\n",
    "print (\"breakdown **:\")\n",
    "print (\"4*4=\",4*4) \n",
    "print (\"16*4=\",16*4) \n",
    "print (\"64*4=\",64*4) "
   ]
  },
  {
   "cell_type": "markdown",
   "id": "80fcfa15-855d-474b-87d1-50b6b356c4a2",
   "metadata": {},
   "source": [
    "## 🧾 Task: Simple Bill Calculator with VAT and Discount\n",
    "🎯 Objective:\n",
    "Create a Python script that:\n",
    "\n",
    "Takes the price of a product\n",
    "\n",
    "Adds 5% VAT\n",
    "\n",
    "Applies a 10% discount\n",
    "\n",
    "Calculates and shows the final payable amount"
   ]
  },
  {
   "cell_type": "code",
   "execution_count": 287,
   "id": "e632a1c3-8229-45b0-81fd-61f71ad1ac21",
   "metadata": {},
   "outputs": [
    {
     "name": "stdin",
     "output_type": "stream",
     "text": [
      "enter the price: 3500\n"
     ]
    },
    {
     "name": "stdout",
     "output_type": "stream",
     "text": [
      "3307\n"
     ]
    }
   ],
   "source": [
    "# Python script\n",
    "\n",
    "price_product = float(input(\"enter the price:\"))\n",
    "VAT = 0.05\n",
    "priceAfterVAT = price_product + price_product*VAT\n",
    "discount = 0.1\n",
    "\n",
    "\n",
    "final_payable = priceAfterVAT-(priceAfterVAT)*discount\n",
    "print (int(final_payable))\n",
    "\n"
   ]
  },
  {
   "cell_type": "code",
   "execution_count": null,
   "id": "79b28f0b-496a-42cd-b89f-ce7e6bdf0b8d",
   "metadata": {},
   "outputs": [],
   "source": []
  }
 ],
 "metadata": {
  "kernelspec": {
   "display_name": "Python [conda env:base] *",
   "language": "python",
   "name": "conda-base-py"
  },
  "language_info": {
   "codemirror_mode": {
    "name": "ipython",
    "version": 3
   },
   "file_extension": ".py",
   "mimetype": "text/x-python",
   "name": "python",
   "nbconvert_exporter": "python",
   "pygments_lexer": "ipython3",
   "version": "3.12.7"
  }
 },
 "nbformat": 4,
 "nbformat_minor": 5
}
