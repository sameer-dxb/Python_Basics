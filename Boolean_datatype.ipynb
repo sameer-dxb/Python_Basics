{
 "cells": [
  {
   "cell_type": "markdown",
   "id": "7cc63966-b17f-408c-929d-99e5c399249c",
   "metadata": {},
   "source": [
    "# 🧮 Boolean Topic Coverage List"
   ]
  },
  {
   "cell_type": "markdown",
   "id": "b50844c5-1e1d-47a7-a54a-7ff56542b55d",
   "metadata": {},
   "source": [
    "## ✅ 1. Introduction to Boolean\n",
    "\n",
    "What is bool type?\n",
    "\n",
    "Valid Boolean values: True, False\n",
    "    "
   ]
  },
  {
   "cell_type": "code",
   "execution_count": 365,
   "id": "8e3b0c29-4e5a-49bd-b870-4bcea30597f6",
   "metadata": {},
   "outputs": [
    {
     "name": "stdout",
     "output_type": "stream",
     "text": [
      "📌 Output:\n",
      "❌ Order failed. Please check payment or stock status.\n"
     ]
    }
   ],
   "source": [
    "# ✅ Example 1: Online Payment Checkout System\n",
    "\n",
    "#Problem:\n",
    "#Check if a user can complete checkout only if:\n",
    "\n",
    "#Payment is completed\n",
    "\n",
    "#Product is in stock\n",
    "\n",
    "payment_done = True\n",
    "product_in_stock = False\n",
    "\n",
    "print (\"📌 Output:\")\n",
    "if payment_done and product_in_stock:\n",
    "    print (\"✅ order is confirmed, processed shipment.\")\n",
    "\n",
    "else: \n",
    "    print (\"❌ Order failed. Please check payment or stock status.\")\n",
    "\n"
   ]
  },
  {
   "cell_type": "markdown",
   "id": "f6db033e-807f-41c6-953b-4813f023fa1a",
   "metadata": {},
   "source": [
    "## ✅ 2. Check Data Type\n",
    "\n",
    "#Use type() to confirm bool\n",
    "\n",
    "#print(type(True))  # <class 'bool'>\n"
   ]
  },
  {
   "cell_type": "code",
   "execution_count": 1,
   "id": "df517a19-0883-4c9d-9873-baabb1d561cc",
   "metadata": {},
   "outputs": [
    {
     "name": "stdout",
     "output_type": "stream",
     "text": [
      "<class 'bool'>\n",
      "<class 'bool'>\n"
     ]
    }
   ],
   "source": [
    "print (type(True))\n",
    "print (type(False))"
   ]
  },
  {
   "cell_type": "markdown",
   "id": "34ad60ab-d473-4f40-bcb9-4221e3a4d230",
   "metadata": {},
   "source": [
    "## ✅ 3. Boolean From Comparisons\n",
    "\n",
    "==, !=, <, >, <=, >=\n",
    "\n",
    "# Comparing numbers\n",
    "print(\"5 == 5 :\", 5 == 5)       # True\n",
    "print(\"5 != 3 :\", 5 != 3)       # True\n",
    "print(\"2 < 5  :\", 2 < 5)        # True\n",
    "print(\"7 > 10 :\", 7 > 10)       # False\n",
    "print(\"3 <= 3 :\", 3 <= 3)       # True\n",
    "print(\"8 >= 10:\", 8 >= 10)      # False"
   ]
  },
  {
   "cell_type": "code",
   "execution_count": 7,
   "id": "72a2f469-f093-44c8-b2c7-103058639935",
   "metadata": {},
   "outputs": [
    {
     "name": "stdout",
     "output_type": "stream",
     "text": [
      "Discount applied: True\n"
     ]
    }
   ],
   "source": [
    "# 1. E-commerce Discount Eligibility\n",
    "cart_value = 120\n",
    "min_required = 100\n",
    "\n",
    "eligible_for_discount = cart_value >= min_required\n",
    "print(\"Discount applied:\", eligible_for_discount)  # True"
   ]
  },
  {
   "cell_type": "code",
   "execution_count": 15,
   "id": "4dc40129-3402-419e-9ed6-f65405995e23",
   "metadata": {},
   "outputs": [
    {
     "name": "stdout",
     "output_type": "stream",
     "text": [
      "login_succesful: True\n"
     ]
    }
   ],
   "source": [
    "# 2. Password Match Check\n",
    "\n",
    "enter_password = \"1234\"\n",
    "correct_password = \"1234\"\n",
    "\n",
    "print (\"login_succesful:\", enter_password == correct_password)"
   ]
  },
  {
   "cell_type": "code",
   "execution_count": 21,
   "id": "6634bf93-363c-4431-b4c7-bf4c7a9f0cfd",
   "metadata": {},
   "outputs": [
    {
     "name": "stdout",
     "output_type": "stream",
     "text": [
      "login_succesful: True\n"
     ]
    }
   ],
   "source": [
    "# 3. Password Match Check\n",
    "\n",
    "enter_password = \"123\"\n",
    "correct_password = \"1234\"\n",
    "\n",
    "print (\"login_succesful:\", enter_password != correct_password)"
   ]
  },
  {
   "cell_type": "markdown",
   "id": "8afc58b0-04dc-4ca5-9544-6f9b5ee6795f",
   "metadata": {},
   "source": [
    "## ✅ 4. Boolean in if, elif, else Conditions\n",
    "\n",
    "How Booleans control program flow\n",
    "\n",
    "if True:\n",
    "   \n",
    "    print(\"Runs!\")\n"
   ]
  },
  {
   "cell_type": "code",
   "execution_count": 59,
   "id": "ae6ce24a-edab-42fc-a4ab-14fa41a86521",
   "metadata": {},
   "outputs": [
    {
     "name": "stdout",
     "output_type": "stream",
     "text": [
      "Account is active\n",
      "Account isn't active\n"
     ]
    }
   ],
   "source": [
    "# 1. Simple if with Boolean\n",
    "\n",
    "is_active = True\n",
    "\n",
    "if is_active:\n",
    "    print (\"Account is active\")\n",
    "\n",
    "# The condition is_active itself is a Boolean — no need to compare it with == True.\n",
    "\n",
    "its_active = False\n",
    "\n",
    "if not its_active:\n",
    "    print (\"Account isn't active\")\n"
   ]
  },
  {
   "cell_type": "code",
   "execution_count": 71,
   "id": "f4c102cc-d59b-42c6-be57-6fb653cb2b15",
   "metadata": {},
   "outputs": [
    {
     "name": "stdout",
     "output_type": "stream",
     "text": [
      "VAT Not Applied.\n"
     ]
    }
   ],
   "source": [
    "# 2. Using if + else\n",
    "\n",
    "has_vat_no = False\n",
    "if has_vat_no:\n",
    "    print (\"VAT Applied.\")\n",
    "\n",
    "else: \n",
    "    print (\"VAT Not Applied.\")"
   ]
  },
  {
   "cell_type": "code",
   "execution_count": 85,
   "id": "a9d911a8-e28b-44a7-8f58-8bf56f59715b",
   "metadata": {},
   "outputs": [
    {
     "name": "stdin",
     "output_type": "stream",
     "text": [
      " pending\n"
     ]
    },
    {
     "name": "stdout",
     "output_type": "stream",
     "text": [
      "Transaction in process.\n"
     ]
    }
   ],
   "source": [
    "# 3. Using if...elif...else\n",
    "\n",
    "status = str(input())\n",
    "\n",
    "if status == \"approved\":\n",
    "    print (\"transaction compeleted\")\n",
    "\n",
    "elif status == \"pending\":\n",
    "    print (\"Transaction in process.\" )\n",
    "\n",
    "else:\n",
    "    print(\"Transaction failed.\")"
   ]
  },
  {
   "cell_type": "markdown",
   "id": "4853df58-2218-4c9d-afff-7761412d7661",
   "metadata": {},
   "source": [
    "## ✅ 5. Logical Operators\n",
    "\n",
    "and → All conditions must be true\n",
    "\n",
    "or → At least one must be true\n",
    "\n",
    "not → Reverses the Boolean\n",
    "\n",
    "if age > 18 and has_license:\n",
    "    \n",
    "    print(\"Can drive\")\n",
    "\n",
    "    \n"
   ]
  },
  {
   "cell_type": "markdown",
   "id": "40d51535-84b0-4d31-b0fe-c037e99e7c0d",
   "metadata": {
    "jp-MarkdownHeadingCollapsed": true
   },
   "source": [
    "## ✅ 6. Truthy & Falsy Values\n",
    "\n",
    "Value\t0, None, \"\", []\n",
    "\n",
    "Interpreted As \tFalse\n",
    "\n",
    "Any non-zero/filled value\tTrue\n",
    "\n",
    "\n",
    "print(bool(\"\"))     # False\n",
    "\n",
    "\n",
    "print(bool(\"Hi\"))   # True"
   ]
  },
  {
   "cell_type": "markdown",
   "id": "1d2a4a3e-1e90-443a-90ee-9c8d8a8c0f3a",
   "metadata": {},
   "source": [
    "## ✅ 7. Boolean Conversion\n",
    "\n",
    "Using bool() to convert other types\n",
    "\n",
    "print(bool(0))     # False\n",
    "\n",
    "print(bool(100))   # True\n",
    "\n"
   ]
  },
  {
   "cell_type": "markdown",
   "id": "54283f26-3b55-4c7f-a95a-44fbf115bc13",
   "metadata": {},
   "source": [
    "## ✅ 8. Practice Examples\n",
    "Age check\n",
    "\n",
    "Login system\n",
    "\n",
    "Even/odd checker\n",
    "\n",
    "VAT eligible or not\n",
    "\n",
    "Cart has items or not"
   ]
  }
 ],
 "metadata": {
  "kernelspec": {
   "display_name": "Python [conda env:base] *",
   "language": "python",
   "name": "conda-base-py"
  },
  "language_info": {
   "codemirror_mode": {
    "name": "ipython",
    "version": 3
   },
   "file_extension": ".py",
   "mimetype": "text/x-python",
   "name": "python",
   "nbconvert_exporter": "python",
   "pygments_lexer": "ipython3",
   "version": "3.12.7"
  }
 },
 "nbformat": 4,
 "nbformat_minor": 5
}
