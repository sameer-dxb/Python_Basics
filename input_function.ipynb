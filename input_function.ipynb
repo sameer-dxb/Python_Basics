{
 "cells": [
  {
   "cell_type": "markdown",
   "id": "7cc63966-b17f-408c-929d-99e5c399249c",
   "metadata": {},
   "source": [
    "# ✅ Python input() Function – Full Explanation and Examples\n"
   ]
  },
  {
   "cell_type": "markdown",
   "id": "13361cd8-3617-41a7-8ded-770701aac4b9",
   "metadata": {
    "scrolled": true
   },
   "source": [
    "## 🔹 What is input() in Python?\n",
    "The input() function is used to take input from the user during the program's execution.\n",
    "It always returns the input as a string.\n",
    "\n"
   ]
  },
  {
   "cell_type": "code",
   "execution_count": 133,
   "id": "ceaf3df8-96cb-4c2b-a678-636b71eb0a1f",
   "metadata": {},
   "outputs": [
    {
     "name": "stdin",
     "output_type": "stream",
     "text": [
      "Enter your name:  sameer\n"
     ]
    },
    {
     "name": "stdout",
     "output_type": "stream",
     "text": [
      "Hello, sameer\n"
     ]
    }
   ],
   "source": [
    "# 🔹 Examples of input() Usage\n",
    "\n",
    "#1. Simple User Input\n",
    "\n",
    "name = input(\"Enter your name: \")\n",
    "print(\"Hello,\", name)"
   ]
  },
  {
   "cell_type": "code",
   "execution_count": 131,
   "id": "13bbc263-287c-420c-ae56-1b32d372c3da",
   "metadata": {},
   "outputs": [
    {
     "name": "stdin",
     "output_type": "stream",
     "text": [
      "Enter your age:  35\n"
     ]
    },
    {
     "name": "stdout",
     "output_type": "stream",
     "text": [
      "Your age after 5 years will be: 40\n"
     ]
    }
   ],
   "source": [
    "#2. Input and Convert to Integer\n",
    "\n",
    "age = input(\"Enter your age: \")\n",
    "age_number = int(age)\n",
    "\n",
    "print(\"Your age after 5 years will be:\", age_number + 5)"
   ]
  },
  {
   "cell_type": "code",
   "execution_count": 139,
   "id": "7f18281b-8bdd-444f-87a3-256d40bb93a3",
   "metadata": {},
   "outputs": [
    {
     "name": "stdin",
     "output_type": "stream",
     "text": [
      "Enter first number: 10\n",
      "Enter second number: 10\n"
     ]
    },
    {
     "name": "stdout",
     "output_type": "stream",
     "text": [
      "the sum is: 20\n"
     ]
    }
   ],
   "source": [
    "#3. Input Two Numbers and Add Them\n",
    "\n",
    "num1 = int (input(\"Enter first number:\"))\n",
    "num2 = int (input(\"Enter second number:\"))\n",
    "\n",
    "sum = num1 + num2\n",
    "print (\"the sum is:\", sum)\n"
   ]
  },
  {
   "cell_type": "code",
   "execution_count": 143,
   "id": "cafd5c97-9294-49e3-9ff1-b8ef7c7437bd",
   "metadata": {},
   "outputs": [
    {
     "name": "stdin",
     "output_type": "stream",
     "text": [
      "Enter a number:  12\n",
      "Enter another number:  2\n"
     ]
    },
    {
     "name": "stdout",
     "output_type": "stream",
     "text": [
      "122\n"
     ]
    }
   ],
   "source": [
    "# 🔥 Common Mistake to Avoid\n",
    "# If you forget to use int(), Python will treat numbers as text (string).\n",
    "\n",
    "# Example: ❌ Not addition!\n",
    "\n",
    "a = input(\"Enter a number: \")\n",
    "b = input(\"Enter another number: \")\n",
    "\n",
    "print(a + b)   # It will join (concatenate) the text, not add numbers"
   ]
  },
  {
   "cell_type": "markdown",
   "id": "4d30a695-b641-4780-819a-be911feffa28",
   "metadata": {},
   "source": [
    "# 🧠 Quick Summary\n",
    "Action\t                     | Code Example\t       | Result\n",
    "Input as text\t               input()\t             String\n",
    "Input and convert to int\t   int(input())\t         Integer\n",
    "Input and convert to float\t   float(input())\t     Decimal number"
   ]
  },
  {
   "cell_type": "code",
   "execution_count": null,
   "id": "e7a45ae9-e19a-496d-9d9d-2a68d533802e",
   "metadata": {},
   "outputs": [],
   "source": []
  }
 ],
 "metadata": {
  "kernelspec": {
   "display_name": "Python [conda env:base] *",
   "language": "python",
   "name": "conda-base-py"
  },
  "language_info": {
   "codemirror_mode": {
    "name": "ipython",
    "version": 3
   },
   "file_extension": ".py",
   "mimetype": "text/x-python",
   "name": "python",
   "nbconvert_exporter": "python",
   "pygments_lexer": "ipython3",
   "version": "3.12.7"
  }
 },
 "nbformat": 4,
 "nbformat_minor": 5
}
