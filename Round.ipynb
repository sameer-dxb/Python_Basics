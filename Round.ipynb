{
 "cells": [
  {
   "cell_type": "markdown",
   "id": "7cc63966-b17f-408c-929d-99e5c399249c",
   "metadata": {},
   "source": [
    "# 🧮 Round in Pyhton"
   ]
  },
  {
   "cell_type": "code",
   "execution_count": 122,
   "id": "fdc3b21e-5b7f-47a5-85b2-b58c791e0a9d",
   "metadata": {
    "scrolled": true
   },
   "outputs": [
    {
     "name": "stdout",
     "output_type": "stream",
     "text": [
      "Basic Usage\n",
      "6\n",
      "2\n",
      "4\n",
      ".\n",
      ".\n",
      ".\n",
      "With Decimal Places\n",
      "3.14\n",
      "7.7\n"
     ]
    }
   ],
   "source": [
    "#Basic Usage\n",
    "\n",
    "print(\"Basic Usage\")\n",
    "print(round(5.6))   # 6\n",
    "print(round(2.3))   # 2\n",
    "print(round(3.5))   # 4\n",
    "\n",
    "print (\".\")\n",
    "print (\".\")\n",
    "print (\".\")\n",
    "\n",
    "#With Decimal Places\n",
    "\n",
    "print(\"With Decimal Places\")\n",
    "print(round(3.14159, 2))   # 3.14\n",
    "print(round(7.6789, 1))    # 7.7"
   ]
  },
  {
   "cell_type": "markdown",
   "id": "b91f7984-0e97-48ae-8420-86d27a3ff7ed",
   "metadata": {},
   "source": [
    "# Special Case: .5 Values\n",
    "Python uses \"banker’s rounding\", which means:\n",
    "\n",
    "round(2.5) → 2 ✅ (rounded to even)\n",
    "\n",
    "round(3.5) → 4 ✅ (rounded to even)"
   ]
  },
  {
   "cell_type": "code",
   "execution_count": null,
   "id": "4b843bd6-2bc4-4281-befa-02e4cedd8834",
   "metadata": {},
   "outputs": [],
   "source": [
    "# some function:\n",
    "\n",
    "# divmode\n",
    "# isinstance\n",
    "# power\n",
    "# input\n",
    "\n"
   ]
  }
 ],
 "metadata": {
  "kernelspec": {
   "display_name": "Python [conda env:base] *",
   "language": "python",
   "name": "conda-base-py"
  },
  "language_info": {
   "codemirror_mode": {
    "name": "ipython",
    "version": 3
   },
   "file_extension": ".py",
   "mimetype": "text/x-python",
   "name": "python",
   "nbconvert_exporter": "python",
   "pygments_lexer": "ipython3",
   "version": "3.12.7"
  }
 },
 "nbformat": 4,
 "nbformat_minor": 5
}
