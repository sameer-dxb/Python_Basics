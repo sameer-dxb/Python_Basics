{
 "cells": [
  {
   "cell_type": "markdown",
   "id": "60ce0ac4",
   "metadata": {},
   "source": [
    "# Python Basics - Variables\n",
    "This notebook demonstrates 3 basic examples of creating and using variables in Python."
   ]
  },
  {
   "cell_type": "markdown",
   "id": "ee804ffa",
   "metadata": {},
   "source": [
    "### Example 1: Storing Personal Information"
   ]
  },
  {
   "cell_type": "code",
   "execution_count": null,
   "id": "9288b6bf",
   "metadata": {},
   "outputs": [],
   "source": [
    "# Example 1: Storing personal information\n",
    "name = \"Sameer\"\n",
    "age = 35\n",
    "city = \"Dubai\"\n",
    "\n",
    "print(\"Name:\", name)\n",
    "print(\"Age:\", age)\n",
    "print(\"City:\", city)"
   ]
  },
  {
   "cell_type": "markdown",
   "id": "dc8b5da0",
   "metadata": {},
   "source": [
    "### Example 2: Salary and Tax Calculation"
   ]
  },
  {
   "cell_type": "code",
   "execution_count": null,
   "id": "55bd241b",
   "metadata": {},
   "outputs": [],
   "source": [
    "# Example 2: Salary and Tax\n",
    "salary = 15000.75\n",
    "tax_rate = 0.05\n",
    "tax = salary * tax_rate\n",
    "\n",
    "print(\"\\nMonthly Salary:\", salary)\n",
    "print(\"Estimated Tax:\", tax)"
   ]
  },
  {
   "cell_type": "markdown",
   "id": "2fe15bc1",
   "metadata": {},
   "source": [
    "### Example 3: Boolean Variables"
   ]
  },
  {
   "cell_type": "code",
   "execution_count": null,
   "id": "a983e7e6",
   "metadata": {},
   "outputs": [],
   "source": [
    "# Example 3: Boolean variable\n",
    "is_registered = True\n",
    "has_vat_number = False\n",
    "\n",
    "print(\"\\nIs Registered:\", is_registered)\n",
    "print(\"Has VAT Number:\", has_vat_number)"
   ]
  }
 ],
 "metadata": {
  "kernelspec": {
   "display_name": "Python 3",
   "name": "python3"
  }
 },
 "nbformat": 4,
 "nbformat_minor": 5
}
